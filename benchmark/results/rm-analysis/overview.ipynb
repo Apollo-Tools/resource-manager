{
 "cells": [
  {
   "cell_type": "markdown",
   "source": [
    "# Overview\n",
    "This notebook lists resources, functions, services  and ensembles, that have been used during the data collection process."
   ],
   "metadata": {
    "collapsed": false
   },
   "id": "dffcf70fbff62a3c"
  },
  {
   "cell_type": "markdown",
   "source": [
    "## Resources\n",
    "\n",
    "| id | type            | Description                                                      |\n",
    "|----|-----------------|------------------------------------------------------------------|\n",
    "| 1  | OpenFaaS        | Intel NUC , 8 cores, 16 GB Memory                                |\n",
    "| 2  | OpenFaaS        | Raspberry 3, 4 cores, 1 GB Memory                                |\n",
    "| 3  | OpenFaaS        | Raspberry 4, 4 Cores, 4 GB Memory                                |\n",
    "| 4  | K8S             | K8S cluster with 7 Nodes, 40 Cores (total), 40 GB Memory (total) |\n",
    "| 6  | K8S             | Node of K8S cluster(4), 8 cores, 8 GB Memory                     |\n",
    "| 7  | K8S             | Node of K8S cluster(4), 8 cores, 8 GB Memory                     |\n",
    "| 12 | EC2 (+ OpenFaaS | t2.large, 2 cores, 8 GB memory                                   |\n",
    "| 14 | Lambda          | AWS Lambda in us-east-1                                          |\n",
    "| 15 | Lambda          | AWS Lambda in us-west-2                                          |"
   ],
   "metadata": {
    "collapsed": false
   },
   "id": "77efdb824a176b94"
  },
  {
   "cell_type": "markdown",
   "source": [
    "## Functions\n",
    "\n",
    "| id | Runtime    | Description                                            |\n",
    "|----|------------|--------------------------------------------------------|\n",
    "| 1  | Python 3.8 | A function that expects the amount of seconds to sleep |\n",
    "| 2  | Python 3.8 | A function that returns immediately                    |\n",
    "| 3  | Python 3.8 | A function that returns immediately                    |"
   ],
   "metadata": {
    "collapsed": false
   },
   "id": "432af9cb175bd119"
  },
  {
   "cell_type": "markdown",
   "source": [
    "## Services\n",
    "\n",
    "| id | Image        | Description                                                                                        |\n",
    "|----|--------------|----------------------------------------------------------------------------------------------------|\n",
    "| 1  | nginx:latest | 1 replica, 0.1 CPU limit, 128 MB Memory limit, Service Type LoadBalancer with port mapping 80:8999 |"
   ],
   "metadata": {
    "collapsed": false
   },
   "id": "30b46db5ed2c0e96"
  },
  {
   "cell_type": "markdown",
   "source": [
    "## Ensembles\n",
    "\n",
    "| id | SLOs                                                |\n",
    "|----|-----------------------------------------------------|\n",
    "| 1  | up == true                                          |\n",
    "| 3  | cpu% < 20                                           |\n",
    "| 4  | up == true, latency < 0.2                           |\n",
    "| 5  | up == true, cpu% < 20, memory% < 70, latency < 0.05 |\n",
    "| 6  | up == true, cpu% < 20, memory% < 70, latency < 0.05 |"
   ],
   "metadata": {
    "collapsed": false
   },
   "id": "8b003301c562dac8"
  }
 ],
 "metadata": {
  "kernelspec": {
   "display_name": "Python 3",
   "language": "python",
   "name": "python3"
  },
  "language_info": {
   "codemirror_mode": {
    "name": "ipython",
    "version": 2
   },
   "file_extension": ".py",
   "mimetype": "text/x-python",
   "name": "python",
   "nbconvert_exporter": "python",
   "pygments_lexer": "ipython2",
   "version": "2.7.6"
  }
 },
 "nbformat": 4,
 "nbformat_minor": 5
}
